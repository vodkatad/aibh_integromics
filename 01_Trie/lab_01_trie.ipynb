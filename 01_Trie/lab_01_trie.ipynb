{
 "cells": [
  {
   "cell_type": "markdown",
   "metadata": {},
   "source": [
    "# Lab 1: Tries and pattern matching\n",
    "\n",
    "A collection of bioinformatic algorithms \"quizzes\" [Rosalind](https://rosalind.info/problems/trie/)\n",
    "\n",
    "## Prequel\n",
    "\n",
    "If we use a trie to represent patterns and we require to reach a leaf to declare a match we have an issue:\n",
    "what would happen if we have these two patterns:\n",
    "\n",
    "- PANAMA\n",
    "- PAN\n",
    "?\n",
    "\n",
    "Let's suppose we do not have any pattern that is a prefix of others (**pre-condition**).\n",
    "\n",
    "Our aim for today's lab is:\n",
    "\n",
    "- Solve the rosalind 'trie' problem\n",
    "- Use the trie we built to match our patterns vs some strings\n",
    "- Print the trie using graphviz (TODO)"
   ]
  }
 ],
 "metadata": {
  "kernelspec": {
   "display_name": "Python 3",
   "language": "python",
   "name": "python3"
  },
  "language_info": {
   "codemirror_mode": {
    "name": "ipython",
    "version": 3
   },
   "file_extension": ".py",
   "mimetype": "text/x-python",
   "name": "python",
   "nbconvert_exporter": "python",
   "pygments_lexer": "ipython3",
   "version": "3.13.1"
  }
 },
 "nbformat": 4,
 "nbformat_minor": 2
}
