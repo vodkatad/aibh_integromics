{
 "cells": [
  {
   "cell_type": "markdown",
   "metadata": {},
   "source": [
    "# Needleman-Wunsch\n",
    "\n",
    "Algorithm on [wikipedia](https://en.wikipedia.org/wiki/Needleman%E2%80%93Wunsch_algorithm)\n",
    "\n",
    "When implementing an algorithm we must focus on:\n",
    "- how to split in subproblems\n",
    "- data structures\n",
    "\n",
    "\n",
    "2 ACGT sequences, length=n and m\n",
    "Here we clearly have a matrix (n+1 x  m+1) as the basic data structure, that will store scores.\n",
    "We need to:\n",
    "1. build the initial matrix\n",
    "2. access single characters of the sequences reasonably (and in line with matrix indexes) *this is probably a free gift in python*\n",
    "3. assign scores iterating over the matrix\n",
    "4. traceback from the last row/col square to determine the best alignment (managing branches? Right now let’s skip this, suppose to choose always one option)\n",
    "5. the traceback is required to print the result of the alignment, reason on how to do so (can we build it while going up and then reverse it?)\n",
    "\n",
    "\n",
    "How do we follow the arrows back for the traceback?\n",
    "We could ‘mark’ the way we followed to get the largest score during step 3.\n",
    "We can have two matrices: one with the scores and one with the ‘arrows’: 0 if we go up on the diagonal, -1 if we go left and 1 if we go up. (how to represent double arrows?).\n",
    "\n",
    "I suggest you implement each step and test it right afterwards. Then put everything together and try on small examples, then get a larger one:\n",
    "\n",
    " ![](img/Needleman-Wunsch_pairwise_sequence_alignment.png)\n",
    "\n",
    "And compare your built matrix of scores/arrows.\n",
    "If we choose to prefer 0, then -1 then 1 (match as first choice, as an example) when marking arrows we will follow a single route here, before checking your output decide and annotate which one you do expect - while doing these keep in mind that the traceback *begins from the bottom right!*\n",
    "\n",
    "We are not interested in argument/input management right now so we hardcode the two strings in our script, let’s get all the advantages of python being an interpreted language.\n",
    "We’ll also start with simple scores for match/mismatch/gaps (1/-1/-1).\n",
    "\n",
    "## 2D matrixes in python\n",
    "\n",
    "\n"
   ]
  },
  {
   "cell_type": "code",
   "execution_count": 2,
   "metadata": {},
   "outputs": [
    {
     "name": "stdout",
     "output_type": "stream",
     "text": [
      "[[nan, nan, nan, nan, nan, nan, nan, nan, nan, nan, nan], [nan, nan, nan, nan, nan, nan, nan, nan, nan, nan, nan], [nan, nan, nan, nan, nan, nan, nan, nan, nan, nan, nan], [nan, nan, nan, nan, nan, nan, nan, nan, nan, nan, nan], [nan, nan, nan, nan, nan, nan, nan, nan, nan, nan, nan], [nan, nan, nan, nan, nan, nan, nan, nan, nan, nan, nan]]\n",
      "[[nan, nan, nan, nan, nan, nan, nan, nan, nan, nan, nan], [nan, nan, nan, nan, nan, nan, nan, nan, nan, nan, nan], [nan, nan, nan, nan, 10, nan, nan, nan, nan, nan, nan], [nan, nan, nan, nan, nan, nan, nan, nan, nan, nan, nan], [nan, nan, nan, nan, nan, nan, nan, nan, nan, nan, nan], [nan, nan, nan, nan, nan, nan, nan, nan, nan, nan, nan]]\n"
     ]
    }
   ],
   "source": [
    "n = 10\n",
    "m = 5\n",
    "scores_matrix = [[float('nan')for i in range(n+1)] for j in range(m+1)]\n",
    "print(scores_matrix)\n",
    "scores_matrix[2][4] = 10\n",
    "print(scores_matrix)\n",
    "# the second [] indexes the rows\n",
    "# the first [] the columns\n"
   ]
  }
 ],
 "metadata": {
  "kernelspec": {
   "display_name": "Python 3",
   "language": "python",
   "name": "python3"
  },
  "language_info": {
   "codemirror_mode": {
    "name": "ipython",
    "version": 3
   },
   "file_extension": ".py",
   "mimetype": "text/x-python",
   "name": "python",
   "nbconvert_exporter": "python",
   "pygments_lexer": "ipython3",
   "version": "3.13.1"
  }
 },
 "nbformat": 4,
 "nbformat_minor": 2
}
